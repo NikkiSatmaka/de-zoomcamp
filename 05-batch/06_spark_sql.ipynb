{
 "cells": [
  {
   "cell_type": "code",
   "execution_count": 1,
   "metadata": {},
   "outputs": [
    {
     "name": "stderr",
     "output_type": "stream",
     "text": [
      "24/03/07 23:04:56 WARN Utils: Your hostname, avalon resolves to a loopback address: 127.0.1.1; using 192.168.18.2 instead (on interface eth0)\n",
      "24/03/07 23:04:56 WARN Utils: Set SPARK_LOCAL_IP if you need to bind to another address\n",
      "Setting default log level to \"WARN\".\n",
      "To adjust logging level use sc.setLogLevel(newLevel). For SparkR, use setLogLevel(newLevel).\n",
      "24/03/07 23:05:01 WARN NativeCodeLoader: Unable to load native-hadoop library for your platform... using builtin-java classes where applicable\n"
     ]
    }
   ],
   "source": [
    "import pyspark\n",
    "from pyspark.sql import SparkSession\n",
    "from pyspark.sql import functions as F\n",
    "\n",
    "spark = SparkSession.builder.master(\"local[*]\").appName(\"test\").getOrCreate()"
   ]
  },
  {
   "cell_type": "code",
   "execution_count": 2,
   "metadata": {},
   "outputs": [
    {
     "name": "stderr",
     "output_type": "stream",
     "text": [
      "                                                                                \r"
     ]
    }
   ],
   "source": [
    "df_green = spark.read.parquet(\"data/pq/green/*/*\")\n",
    "df_yellow = spark.read.parquet(\"data/pq/yellow/*/*\")"
   ]
  },
  {
   "cell_type": "code",
   "execution_count": 3,
   "metadata": {},
   "outputs": [
    {
     "name": "stdout",
     "output_type": "stream",
     "text": [
      "root\n",
      " |-- VendorID: integer (nullable = true)\n",
      " |-- lpep_pickup_datetime: timestamp (nullable = true)\n",
      " |-- lpep_dropoff_datetime: timestamp (nullable = true)\n",
      " |-- store_and_fwd_flag: string (nullable = true)\n",
      " |-- RatecodeID: integer (nullable = true)\n",
      " |-- PULocationID: integer (nullable = true)\n",
      " |-- DOLocationID: integer (nullable = true)\n",
      " |-- passenger_count: integer (nullable = true)\n",
      " |-- trip_distance: float (nullable = true)\n",
      " |-- fare_amount: float (nullable = true)\n",
      " |-- extra: float (nullable = true)\n",
      " |-- mta_tax: float (nullable = true)\n",
      " |-- tip_amount: float (nullable = true)\n",
      " |-- tolls_amount: float (nullable = true)\n",
      " |-- ehail_fee: float (nullable = true)\n",
      " |-- improvement_surcharge: float (nullable = true)\n",
      " |-- total_amount: float (nullable = true)\n",
      " |-- payment_type: integer (nullable = true)\n",
      " |-- trip_type: integer (nullable = true)\n",
      " |-- congestion_surcharge: float (nullable = true)\n",
      "\n"
     ]
    }
   ],
   "source": [
    "df_green.printSchema()"
   ]
  },
  {
   "cell_type": "code",
   "execution_count": 4,
   "metadata": {},
   "outputs": [
    {
     "name": "stdout",
     "output_type": "stream",
     "text": [
      "root\n",
      " |-- VendorID: integer (nullable = true)\n",
      " |-- tpep_pickup_datetime: timestamp (nullable = true)\n",
      " |-- tpep_dropoff_datetime: timestamp (nullable = true)\n",
      " |-- passenger_count: integer (nullable = true)\n",
      " |-- trip_distance: float (nullable = true)\n",
      " |-- RatecodeID: integer (nullable = true)\n",
      " |-- store_and_fwd_flag: string (nullable = true)\n",
      " |-- PULocationID: integer (nullable = true)\n",
      " |-- DOLocationID: integer (nullable = true)\n",
      " |-- payment_type: integer (nullable = true)\n",
      " |-- fare_amount: float (nullable = true)\n",
      " |-- extra: float (nullable = true)\n",
      " |-- mta_tax: float (nullable = true)\n",
      " |-- tip_amount: float (nullable = true)\n",
      " |-- tolls_amount: float (nullable = true)\n",
      " |-- improvement_surcharge: float (nullable = true)\n",
      " |-- total_amount: float (nullable = true)\n",
      " |-- congestion_surcharge: float (nullable = true)\n",
      "\n"
     ]
    }
   ],
   "source": [
    "df_yellow.printSchema()"
   ]
  },
  {
   "cell_type": "code",
   "execution_count": 5,
   "metadata": {},
   "outputs": [],
   "source": [
    "df_green = df_green.withColumnRenamed(\n",
    "    \"lpep_pickup_datetime\", \"pickup_datetime\"\n",
    ").withColumnRenamed(\"lpep_dropoff_datetime\", \"dropoff_datetime\")\n",
    "\n",
    "df_yellow = df_yellow.withColumnRenamed(\n",
    "    \"tpep_pickup_datetime\", \"pickup_datetime\"\n",
    ").withColumnRenamed(\"tpep_dropoff_datetime\", \"dropoff_datetime\")"
   ]
  },
  {
   "cell_type": "code",
   "execution_count": 6,
   "metadata": {},
   "outputs": [
    {
     "data": {
      "text/plain": [
       "['VendorID',\n",
       " 'pickup_datetime',\n",
       " 'dropoff_datetime',\n",
       " 'store_and_fwd_flag',\n",
       " 'RatecodeID',\n",
       " 'PULocationID',\n",
       " 'DOLocationID',\n",
       " 'passenger_count',\n",
       " 'trip_distance',\n",
       " 'fare_amount',\n",
       " 'extra',\n",
       " 'mta_tax',\n",
       " 'tip_amount',\n",
       " 'tolls_amount',\n",
       " 'improvement_surcharge',\n",
       " 'total_amount',\n",
       " 'payment_type',\n",
       " 'congestion_surcharge']"
      ]
     },
     "execution_count": 6,
     "metadata": {},
     "output_type": "execute_result"
    }
   ],
   "source": [
    "common_columns = [col for col in df_green.columns if col in df_yellow.columns]\n",
    "common_columns"
   ]
  },
  {
   "cell_type": "code",
   "execution_count": 7,
   "metadata": {},
   "outputs": [],
   "source": [
    "df_green_sel = df_green.select(common_columns).withColumn(\n",
    "    \"service_type\", F.lit(\"green\")\n",
    ")\n",
    "df_yellow_sel = df_yellow.select(common_columns).withColumn(\n",
    "    \"service_type\", F.lit(\"yellow\")\n",
    ")"
   ]
  },
  {
   "cell_type": "code",
   "execution_count": 8,
   "metadata": {},
   "outputs": [],
   "source": [
    "df_trips_data = df_green_sel.unionAll(df_yellow_sel)"
   ]
  },
  {
   "cell_type": "code",
   "execution_count": 9,
   "metadata": {},
   "outputs": [
    {
     "name": "stderr",
     "output_type": "stream",
     "text": [
      "                                                                                \r"
     ]
    },
    {
     "name": "stdout",
     "output_type": "stream",
     "text": [
      "+------------+---------+\n",
      "|service_type|    count|\n",
      "+------------+---------+\n",
      "|       green|  8348567|\n",
      "|      yellow|124048218|\n",
      "+------------+---------+\n",
      "\n"
     ]
    }
   ],
   "source": [
    "df_trips_data.groupBy(\"service_type\").count().show()"
   ]
  },
  {
   "cell_type": "code",
   "execution_count": 12,
   "metadata": {},
   "outputs": [],
   "source": [
    "df_trips_data.createOrReplaceTempView(\"trips_data\")"
   ]
  },
  {
   "cell_type": "code",
   "execution_count": 23,
   "metadata": {},
   "outputs": [
    {
     "name": "stderr",
     "output_type": "stream",
     "text": [
      "[Stage 11:===================================================>    (37 + 3) / 40]\r"
     ]
    },
    {
     "name": "stdout",
     "output_type": "stream",
     "text": [
      "+------------+---------+\n",
      "|service_type| count(1)|\n",
      "+------------+---------+\n",
      "|       green|  8348567|\n",
      "|      yellow|124048218|\n",
      "+------------+---------+\n",
      "\n"
     ]
    },
    {
     "name": "stderr",
     "output_type": "stream",
     "text": [
      "                                                                                \r"
     ]
    }
   ],
   "source": [
    "spark.sql(\n",
    "    \"\"\"\n",
    "SELECT\n",
    "    service_type,\n",
    "    count(1)\n",
    "FROM\n",
    "    trips_data\n",
    "GROUP BY\n",
    "    service_type\n",
    "\"\"\"\n",
    ").show()"
   ]
  },
  {
   "cell_type": "code",
   "execution_count": 27,
   "metadata": {},
   "outputs": [],
   "source": [
    "df_result = spark.sql(\n",
    "    \"\"\"\n",
    "SELECT\n",
    "    -- Reveneue grouping\n",
    "    PULocationID AS revenue_zone,\n",
    "    date_trunc(\"month\", pickup_datetime) AS revenue_month,\n",
    "    service_type,\n",
    "\n",
    "    -- Revenue calculation\n",
    "    SUM(fare_amount) AS revenue_monthly_fare,\n",
    "    SUM(extra) AS revenue_monthly_extra,\n",
    "    SUM(mta_tax) AS revenue_monthly_mta_tax,\n",
    "    SUM(tip_amount) AS revenue_monthly_tip_amount,\n",
    "    SUM(tolls_amount) AS revenue_monthly_tolls_amount,\n",
    "    SUM(improvement_surcharge) AS revenue_monthly_improvement_surcharge,\n",
    "    SUM(total_amount) AS revenue_monthly_total_amount,\n",
    "    SUM(congestion_surcharge) AS revenue_monthly_congestion_surcharge,\n",
    "\n",
    "    -- Additional calculations\n",
    "    AVG(passenger_count) AS avg_monthly_passenger_count,\n",
    "    AVG(trip_distance) AS avg_monthly_trip_distance\n",
    "FROM\n",
    "    trips_data\n",
    "GROUP BY\n",
    "    revenue_zone, revenue_month, service_type\n",
    "\"\"\"\n",
    ")"
   ]
  },
  {
   "cell_type": "code",
   "execution_count": 28,
   "metadata": {},
   "outputs": [
    {
     "name": "stderr",
     "output_type": "stream",
     "text": [
      "[Stage 14:======================================================> (39 + 1) / 40]\r"
     ]
    },
    {
     "name": "stdout",
     "output_type": "stream",
     "text": [
      "+------------+-------------------+------------+--------------------+---------------------+-----------------------+--------------------------+----------------------------+-------------------------------------+----------------------------+------------------------------------+---------------------------+-------------------------+\n",
      "|revenue_zone|      revenue_month|service_type|revenue_monthly_fare|revenue_monthly_extra|revenue_monthly_mta_tax|revenue_monthly_tip_amount|revenue_monthly_tolls_amount|revenue_monthly_improvement_surcharge|revenue_monthly_total_amount|revenue_monthly_congestion_surcharge|avg_monthly_passenger_count|avg_monthly_trip_distance|\n",
      "+------------+-------------------+------------+--------------------+---------------------+-----------------------+--------------------------+----------------------------+-------------------------------------+----------------------------+------------------------------------+---------------------------+-------------------------+\n",
      "|         120|2019-01-01 00:00:00|       green|   838.5900001525879|                  5.5|                   18.0|        15.140000104904175|          11.520000457763672|                   10.200000405311584|           898.9499971866608|                                 0.0|         1.1481481481481481|        4.075370382379602|\n",
      "|          27|2019-04-01 00:00:00|       green|  225.39999771118164|                  2.0|                    3.0|                       0.0|            9.15999984741211|                   1.8000000715255737|           241.3600025177002|                                 0.0|         1.6666666666666667|        4.955000082651774|\n",
      "|          33|2019-01-01 00:00:00|       green|   206341.1100101471|               4589.5|                 7347.5|         23313.72999643348|           595.1500196456909|                    4260.000169277191|          247294.83869099617|                                 0.0|          1.318891280947255|       3.3362190530931657|\n",
      "|         165|2019-01-01 00:00:00|       green|   34624.15002441406|                202.0|                  846.0|         96.93000082857907|           875.9300320520997|                    412.5000163912773|           37093.80985689163|                                 0.0|         1.4114888628370457|        5.185275500333471|\n",
      "|         234|2019-03-01 00:00:00|       green|               316.0|                  7.0|                   14.0|        41.449999928474426|          17.280000686645508|                     8.40000033378601|          474.13000297546387|                                70.0|                        1.0|         2.51142856957657|\n",
      "|         140|2019-03-01 00:00:00|       green|   93.05999946594238|                  3.5|                    4.0|         16.21999990940094|                         0.0|                   2.1000000834465027|           136.6299991607666|                               17.75|                       1.25|       2.2225000571925193|\n",
      "|         130|2019-04-01 00:00:00|       green|  129121.58000278659|               3781.0|                 4500.0|         11705.07998826541|           992.4899864196777|                   2662.2001057863235|           152985.4992702026|                  220.30000001192093|         1.0913015324843514|       3.6271497940621704|\n",
      "|         192|2019-01-01 00:00:00|       green|   9284.590005874634|                 65.0|                  173.5|        387.02000057697296|          174.96000695228577|                    91.80000364780426|          10189.619899749756|                                 0.0|         1.2172949002217295|        5.723747223516526|\n",
      "|          89|2019-02-01 00:00:00|       green|   62788.55001449585|                491.5|                 1502.0|         623.1400013752282|          1535.9300587177277|                    715.2000284194946|           67888.61963176727|                               112.5|         1.3823240589198036|        5.283374795447517|\n",
      "|         189|2019-02-01 00:00:00|       green|  21262.669996261597|                488.0|                  745.5|        1539.6900021657348|           77.76000308990479|                    411.6000163555145|           24972.71987438202|                              283.25|         1.3229649238914627|        3.265883524622953|\n",
      "|         222|2019-02-01 00:00:00|       green|  31101.589945793152|                 96.0|                  534.5|        14.730000019073486|           926.9900356531143|                    176.1000069975853|          32854.609743118286|                                2.75|         1.2144846796657383|        8.723101204686635|\n",
      "|         123|2019-04-01 00:00:00|       green|  11665.299987792969|                116.5|                  317.5|        120.36000010371208|          195.00999641418457|                    174.0000069141388|          12606.319922685623|                               19.25|         1.4094368340943684|        4.162709285957311|\n",
      "|          93|2019-04-01 00:00:00|       green|   32854.89999771118|                578.5|                  569.5|         4959.349998898804|           1522.419976234436|                   340.50001353025436|           41434.11964344978|                               684.0|         1.5953177257525084|         8.33301001886236|\n",
      "|          68|2019-04-01 00:00:00|       green|               379.5|                  7.5|                   15.0|         62.27999949455261|          12.239999771118164|                    9.000000357627869|           560.5199975967407|                                75.0|                        1.0|       2.4963333209355674|\n",
      "|          89|2019-01-01 00:00:00|       green|   65948.99003696442|                486.5|                 1583.5|         721.1699993107468|          1635.7300639152527|                    742.8000295162201|           71265.98959422112|                                 0.0|         1.3482556344550787|        5.280669961407017|\n",
      "|         259|2019-01-01 00:00:00|       green|    20284.8299741745|                100.0|                  366.5|         51.25999988056719|           717.5400273799896|                   148.50000590085983|          21676.429826259613|                                 0.0|         1.3553162853297442|        8.448452235198257|\n",
      "|          91|2019-01-01 00:00:00|       green|   48008.67004394531|                270.5|                 1119.5|          136.619999229908|          1178.2700452804565|                    514.8000204563141|          51249.809685468674|                                 0.0|         1.3326000879894413|         5.50521777621874|\n",
      "|          63|2019-02-01 00:00:00|       green|  12353.920011520386|                 56.5|                  231.5|         17.26999975182116|           340.0900127887726|                    85.80000340938568|          13102.979928731918|                                11.0|         1.2494714587737843|        7.326849892877247|\n",
      "|          66|2019-01-01 00:00:00|       green|  147515.27999687195|               4218.5|                 5017.0|         23186.58998704143|          109.08000135421753|                    2985.600118637085|          183621.19907784462|                                 0.0|         1.3593133385951066|        3.656329913111881|\n",
      "|         141|2019-01-01 00:00:00|       green|                59.0|                  5.5|                    4.5|         6.989999949932098|                         0.0|                   2.7000001072883606|           78.69000053405762|                                 0.0|         1.2222222222222223|        1.204444448153178|\n",
      "+------------+-------------------+------------+--------------------+---------------------+-----------------------+--------------------------+----------------------------+-------------------------------------+----------------------------+------------------------------------+---------------------------+-------------------------+\n",
      "only showing top 20 rows\n",
      "\n"
     ]
    },
    {
     "name": "stderr",
     "output_type": "stream",
     "text": [
      "                                                                                \r"
     ]
    }
   ],
   "source": [
    "df_result.show()"
   ]
  },
  {
   "cell_type": "code",
   "execution_count": 29,
   "metadata": {},
   "outputs": [
    {
     "name": "stderr",
     "output_type": "stream",
     "text": [
      "                                                                                \r"
     ]
    }
   ],
   "source": [
    "df_result.write.parquet(\"data/report/revenue\")"
   ]
  },
  {
   "cell_type": "code",
   "execution_count": null,
   "metadata": {},
   "outputs": [],
   "source": []
  }
 ],
 "metadata": {
  "kernelspec": {
   "display_name": "Python 3",
   "language": "python",
   "name": "python3"
  },
  "language_info": {
   "codemirror_mode": {
    "name": "ipython",
    "version": 3
   },
   "file_extension": ".py",
   "mimetype": "text/x-python",
   "name": "python",
   "nbconvert_exporter": "python",
   "pygments_lexer": "ipython3",
   "version": "3.11.8"
  }
 },
 "nbformat": 4,
 "nbformat_minor": 2
}
