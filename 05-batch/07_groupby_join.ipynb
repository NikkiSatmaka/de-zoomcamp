{
 "cells": [
  {
   "cell_type": "code",
   "execution_count": 1,
   "metadata": {},
   "outputs": [],
   "source": [
    "from datetime import datetime\n",
    "\n",
    "import pyspark\n",
    "from pyspark.sql import SparkSession\n",
    "from pyspark.sql import functions as F"
   ]
  },
  {
   "cell_type": "code",
   "execution_count": 2,
   "metadata": {},
   "outputs": [
    {
     "name": "stderr",
     "output_type": "stream",
     "text": [
      "24/03/09 12:24:12 WARN Utils: Your hostname, avalon resolves to a loopback address: 127.0.1.1; using 192.168.18.2 instead (on interface eth0)\n",
      "24/03/09 12:24:12 WARN Utils: Set SPARK_LOCAL_IP if you need to bind to another address\n",
      "Setting default log level to \"WARN\".\n",
      "To adjust logging level use sc.setLogLevel(newLevel). For SparkR, use setLogLevel(newLevel).\n",
      "24/03/09 12:24:12 WARN NativeCodeLoader: Unable to load native-hadoop library for your platform... using builtin-java classes where applicable\n"
     ]
    }
   ],
   "source": [
    "spark = SparkSession.builder.master(\"local[*]\").appName(\"test\").getOrCreate()"
   ]
  },
  {
   "cell_type": "code",
   "execution_count": 3,
   "metadata": {},
   "outputs": [
    {
     "name": "stderr",
     "output_type": "stream",
     "text": [
      "                                                                                \r"
     ]
    }
   ],
   "source": [
    "paths_green = [\"data/pq/green/2020/*\", \"data/pq/green/2021/*\"]\n",
    "paths_yellow = [\"data/pq/yellow/2020/*\", \"data/pq/yellow/2021/*\"]\n",
    "df_green = spark.read.parquet(*paths_green)\n",
    "df_yellow = spark.read.parquet(*paths_yellow)"
   ]
  },
  {
   "cell_type": "markdown",
   "metadata": {},
   "source": [
    "### Using SQL Query"
   ]
  },
  {
   "cell_type": "code",
   "execution_count": 4,
   "metadata": {},
   "outputs": [],
   "source": [
    "df_green.createOrReplaceTempView(\"green\")\n",
    "df_yellow.createOrReplaceTempView(\"yellow\")"
   ]
  },
  {
   "cell_type": "code",
   "execution_count": 5,
   "metadata": {},
   "outputs": [],
   "source": [
    "df_green_revenue = spark.sql(\n",
    "    \"\"\"\n",
    "SELECT\n",
    "    date_trunc(\"hour\", lpep_pickup_datetime) AS hour,\n",
    "    PULocationID AS zone,\n",
    "\n",
    "    SUM(total_amount) AS amount,\n",
    "    COUNT(1) AS number_records\n",
    "FROM\n",
    "    green\n",
    "WHERE\n",
    "    lpep_pickup_datetime >= \"2020-01-01 00:00:00\"\n",
    "GROUP BY\n",
    "    1, 2\n",
    "ORDER BY\n",
    "    1, 2\n",
    "\"\"\"\n",
    ")"
   ]
  },
  {
   "cell_type": "code",
   "execution_count": 6,
   "metadata": {},
   "outputs": [
    {
     "name": "stderr",
     "output_type": "stream",
     "text": [
      "                                                                                \r"
     ]
    },
    {
     "name": "stdout",
     "output_type": "stream",
     "text": [
      "+-------------------+----+------------------+--------------+\n",
      "|               hour|zone|            amount|number_records|\n",
      "+-------------------+----+------------------+--------------+\n",
      "|2020-01-01 00:00:00|   7| 769.7299957275391|            45|\n",
      "|2020-01-01 00:00:00|  17| 195.0299997329712|             9|\n",
      "|2020-01-01 00:00:00|  18| 7.800000190734863|             1|\n",
      "|2020-01-01 00:00:00|  22|15.800000190734863|             1|\n",
      "|2020-01-01 00:00:00|  24| 87.60000038146973|             3|\n",
      "|2020-01-01 00:00:00|  25| 531.0000057220459|            26|\n",
      "|2020-01-01 00:00:00|  29| 61.29999923706055|             1|\n",
      "|2020-01-01 00:00:00|  32| 68.94999885559082|             2|\n",
      "|2020-01-01 00:00:00|  33|317.26999831199646|            11|\n",
      "|2020-01-01 00:00:00|  35| 129.9600019454956|             5|\n",
      "|2020-01-01 00:00:00|  36| 295.3400011062622|            11|\n",
      "|2020-01-01 00:00:00|  37|  175.669997215271|             6|\n",
      "|2020-01-01 00:00:00|  38| 98.79000091552734|             2|\n",
      "|2020-01-01 00:00:00|  40|168.97999572753906|             8|\n",
      "|2020-01-01 00:00:00|  41|1363.9599936008453|            84|\n",
      "|2020-01-01 00:00:00|  42| 799.7600021362305|            52|\n",
      "|2020-01-01 00:00:00|  43|107.52000141143799|             6|\n",
      "|2020-01-01 00:00:00|  47|13.300000190734863|             1|\n",
      "|2020-01-01 00:00:00|  49|266.76000022888184|            14|\n",
      "|2020-01-01 00:00:00|  51|17.800000190734863|             2|\n",
      "+-------------------+----+------------------+--------------+\n",
      "only showing top 20 rows\n",
      "\n"
     ]
    }
   ],
   "source": [
    "df_green_revenue.show()"
   ]
  },
  {
   "cell_type": "markdown",
   "metadata": {},
   "source": [
    "### Using Pyspark API"
   ]
  },
  {
   "cell_type": "code",
   "execution_count": 7,
   "metadata": {},
   "outputs": [],
   "source": [
    "df_green_revenue = (\n",
    "    (df_green)\n",
    "    .filter(\n",
    "        F.col(\"lpep_pickup_datetime\") >= datetime(2020, 1, 1),\n",
    "    )\n",
    "    .groupBy(\n",
    "        [\n",
    "            F.date_trunc(\"hour\", \"lpep_pickup_datetime\").alias(\"hour\"),\n",
    "            F.col(\"PULocationID\").alias(\"zone\"),\n",
    "        ]\n",
    "    )\n",
    "    .agg(\n",
    "        F.sum(\"total_amount\").alias(\"amount\"),\n",
    "        F.count(F.expr(\"*\")).alias(\"number_records\"),\n",
    "    )\n",
    "    .orderBy(\n",
    "        \"hour\",\n",
    "        \"zone\",\n",
    "    )\n",
    ")"
   ]
  },
  {
   "cell_type": "code",
   "execution_count": 8,
   "metadata": {},
   "outputs": [
    {
     "name": "stderr",
     "output_type": "stream",
     "text": [
      "[Stage 5:============================================>              (3 + 1) / 4]\r"
     ]
    },
    {
     "name": "stdout",
     "output_type": "stream",
     "text": [
      "+-------------------+----+------------------+--------------+\n",
      "|               hour|zone|            amount|number_records|\n",
      "+-------------------+----+------------------+--------------+\n",
      "|2020-01-01 00:00:00|   7| 769.7299957275391|            45|\n",
      "|2020-01-01 00:00:00|  17| 195.0299997329712|             9|\n",
      "|2020-01-01 00:00:00|  18| 7.800000190734863|             1|\n",
      "|2020-01-01 00:00:00|  22|15.800000190734863|             1|\n",
      "|2020-01-01 00:00:00|  24| 87.60000038146973|             3|\n",
      "|2020-01-01 00:00:00|  25| 531.0000057220459|            26|\n",
      "|2020-01-01 00:00:00|  29| 61.29999923706055|             1|\n",
      "|2020-01-01 00:00:00|  32| 68.94999885559082|             2|\n",
      "|2020-01-01 00:00:00|  33|317.26999831199646|            11|\n",
      "|2020-01-01 00:00:00|  35| 129.9600019454956|             5|\n",
      "|2020-01-01 00:00:00|  36| 295.3400011062622|            11|\n",
      "|2020-01-01 00:00:00|  37|  175.669997215271|             6|\n",
      "|2020-01-01 00:00:00|  38| 98.79000091552734|             2|\n",
      "|2020-01-01 00:00:00|  40|168.97999572753906|             8|\n",
      "|2020-01-01 00:00:00|  41|1363.9599936008453|            84|\n",
      "|2020-01-01 00:00:00|  42| 799.7600021362305|            52|\n",
      "|2020-01-01 00:00:00|  43|107.52000141143799|             6|\n",
      "|2020-01-01 00:00:00|  47|13.300000190734863|             1|\n",
      "|2020-01-01 00:00:00|  49|266.76000022888184|            14|\n",
      "|2020-01-01 00:00:00|  51|17.800000190734863|             2|\n",
      "+-------------------+----+------------------+--------------+\n",
      "only showing top 20 rows\n",
      "\n"
     ]
    },
    {
     "name": "stderr",
     "output_type": "stream",
     "text": [
      "                                                                                \r"
     ]
    }
   ],
   "source": [
    "df_green_revenue.show()"
   ]
  },
  {
   "cell_type": "code",
   "execution_count": 9,
   "metadata": {},
   "outputs": [
    {
     "name": "stderr",
     "output_type": "stream",
     "text": [
      "                                                                                \r"
     ]
    }
   ],
   "source": [
    "df_green_revenue.repartition(20).write.parquet(\n",
    "    \"data/report/revenue/green\", mode=\"overwrite\"\n",
    ")"
   ]
  }
 ],
 "metadata": {
  "kernelspec": {
   "display_name": "Python 3",
   "language": "python",
   "name": "python3"
  },
  "language_info": {
   "codemirror_mode": {
    "name": "ipython",
    "version": 3
   },
   "file_extension": ".py",
   "mimetype": "text/x-python",
   "name": "python",
   "nbconvert_exporter": "python",
   "pygments_lexer": "ipython3",
   "version": "3.11.8"
  }
 },
 "nbformat": 4,
 "nbformat_minor": 2
}
