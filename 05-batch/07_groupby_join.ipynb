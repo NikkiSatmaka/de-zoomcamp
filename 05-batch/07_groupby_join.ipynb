{
 "cells": [
  {
   "cell_type": "code",
   "execution_count": 1,
   "metadata": {},
   "outputs": [],
   "source": [
    "from datetime import datetime\n",
    "\n",
    "import pyspark\n",
    "from pyspark.sql import SparkSession\n",
    "from pyspark.sql import functions as F"
   ]
  },
  {
   "cell_type": "code",
   "execution_count": 2,
   "metadata": {},
   "outputs": [
    {
     "name": "stderr",
     "output_type": "stream",
     "text": [
      "24/03/09 15:20:19 WARN Utils: Your hostname, avalon resolves to a loopback address: 127.0.1.1; using 192.168.18.2 instead (on interface eth0)\n",
      "24/03/09 15:20:19 WARN Utils: Set SPARK_LOCAL_IP if you need to bind to another address\n",
      "Setting default log level to \"WARN\".\n",
      "To adjust logging level use sc.setLogLevel(newLevel). For SparkR, use setLogLevel(newLevel).\n",
      "24/03/09 15:20:20 WARN NativeCodeLoader: Unable to load native-hadoop library for your platform... using builtin-java classes where applicable\n"
     ]
    }
   ],
   "source": [
    "spark = SparkSession.builder.master(\"local[*]\").appName(\"test\").getOrCreate()"
   ]
  },
  {
   "cell_type": "code",
   "execution_count": 3,
   "metadata": {},
   "outputs": [
    {
     "name": "stderr",
     "output_type": "stream",
     "text": [
      "                                                                                \r"
     ]
    }
   ],
   "source": [
    "paths_green = [\"data/pq/green/2020/*\", \"data/pq/green/2021/*\"]\n",
    "paths_yellow = [\"data/pq/yellow/2020/*\", \"data/pq/yellow/2021/*\"]\n",
    "df_green = spark.read.parquet(*paths_green)\n",
    "df_yellow = spark.read.parquet(*paths_yellow)"
   ]
  },
  {
   "cell_type": "markdown",
   "metadata": {},
   "source": [
    "### OOP"
   ]
  },
  {
   "cell_type": "code",
   "execution_count": 4,
   "metadata": {},
   "outputs": [],
   "source": [
    "class TaxiSpark:\n",
    "    def __init__(\n",
    "        self,\n",
    "        df: pyspark.sql.dataframe.DataFrame,\n",
    "        pickup_column: str,\n",
    "        dropoff_column: str,\n",
    "    ) -> None:\n",
    "        self.df = df\n",
    "        self.pickup_column = pickup_column\n",
    "        self.dropoff_column = dropoff_column\n",
    "        self.df_revenue = None\n",
    "\n",
    "    def calculate_revenue(\n",
    "        self,\n",
    "        start_date: datetime,\n",
    "    ) -> pyspark.sql.dataframe.DataFrame:\n",
    "        self.df_revenue = (\n",
    "            (self.df)\n",
    "            .filter(\n",
    "                F.col(self.pickup_column) >= start_date,\n",
    "            )\n",
    "            .groupBy(\n",
    "                [\n",
    "                    F.date_trunc(\"hour\", self.pickup_column).alias(\"hour\"),\n",
    "                    F.col(\"PULocationID\").alias(\"zone\"),\n",
    "                ]\n",
    "            )\n",
    "            .agg(\n",
    "                F.sum(\"total_amount\").alias(\"amount\"),\n",
    "                F.count(F.expr(\"*\")).alias(\"number_records\"),\n",
    "            )\n",
    "            .orderBy(\n",
    "                \"hour\",\n",
    "                \"zone\",\n",
    "            )\n",
    "        )\n",
    "        return self.df_revenue\n",
    "\n",
    "    def write_parquet_revenue(self, num_partition: int, path: str):\n",
    "        if self.df_revenue is None:\n",
    "            return\n",
    "        self.df_revenue.repartition(num_partition).write.parquet(path, mode=\"overwrite\")"
   ]
  },
  {
   "cell_type": "code",
   "execution_count": 5,
   "metadata": {},
   "outputs": [],
   "source": [
    "green_taxi = TaxiSpark(df_green, \"lpep_pickup_datetime\", \"lpep_dropoff_datetime\")\n",
    "yellow_taxi = TaxiSpark(df_yellow, \"tpep_pickup_datetime\", \"tpep_dropoff_datetime\")"
   ]
  },
  {
   "cell_type": "code",
   "execution_count": 6,
   "metadata": {},
   "outputs": [
    {
     "data": {
      "text/plain": [
       "DataFrame[hour: timestamp, zone: int, amount: double, number_records: bigint]"
      ]
     },
     "execution_count": 6,
     "metadata": {},
     "output_type": "execute_result"
    }
   ],
   "source": [
    "green_taxi.calculate_revenue(datetime(2020, 1, 1))\n",
    "yellow_taxi.calculate_revenue(datetime(2020, 1, 1))"
   ]
  },
  {
   "cell_type": "code",
   "execution_count": 21,
   "metadata": {},
   "outputs": [
    {
     "name": "stderr",
     "output_type": "stream",
     "text": [
      "                                                                                \r"
     ]
    }
   ],
   "source": [
    "green_taxi.write_parquet_revenue(20, \"data/report/revenue/green\")\n",
    "yellow_taxi.write_parquet_revenue(20, \"data/report/revenue/yellow\")"
   ]
  },
  {
   "cell_type": "code",
   "execution_count": 7,
   "metadata": {},
   "outputs": [
    {
     "data": {
      "text/plain": [
       "DataFrame[hour: timestamp, zone: int, amount: double, number_records: bigint]"
      ]
     },
     "execution_count": 7,
     "metadata": {},
     "output_type": "execute_result"
    }
   ],
   "source": [
    "green_taxi.df_revenue"
   ]
  },
  {
   "cell_type": "code",
   "execution_count": 8,
   "metadata": {},
   "outputs": [
    {
     "data": {
      "text/plain": [
       "DataFrame[hour: timestamp, zone: int, amount: double, number_records: bigint]"
      ]
     },
     "execution_count": 8,
     "metadata": {},
     "output_type": "execute_result"
    }
   ],
   "source": [
    "yellow_taxi.df_revenue"
   ]
  },
  {
   "cell_type": "code",
   "execution_count": 9,
   "metadata": {},
   "outputs": [],
   "source": [
    "# df_green_revenue = green_taxi.df_revenue\n",
    "# df_yellow_revenue = yellow_taxi.df_revenue\n",
    "df_green_revenue = spark.read.parquet(\"data/report/revenue/green\")\n",
    "df_yellow_revenue = spark.read.parquet(\"data/report/revenue/yellow\")"
   ]
  },
  {
   "cell_type": "code",
   "execution_count": 10,
   "metadata": {},
   "outputs": [],
   "source": [
    "df_join = (\n",
    "    (df_green_revenue)\n",
    "    .withColumnRenamed(\"amount\", \"green_amount\")\n",
    "    .withColumnRenamed(\"number_records\", \"green_number_records\")\n",
    "    .join(\n",
    "        (df_yellow_revenue)\n",
    "        .withColumnRenamed(\"amount\", \"yellow_amount\")\n",
    "        .withColumnRenamed(\"number_records\", \"yellow_number_records\"),\n",
    "        on=[\"hour\", \"zone\"],\n",
    "        how=\"outer\",\n",
    "    )\n",
    ")"
   ]
  },
  {
   "cell_type": "code",
   "execution_count": 36,
   "metadata": {},
   "outputs": [
    {
     "name": "stderr",
     "output_type": "stream",
     "text": [
      "                                                                                \r"
     ]
    }
   ],
   "source": [
    "df_join.write.parquet(\"data/report/revenue/total\", mode=\"overwrite\")"
   ]
  },
  {
   "cell_type": "code",
   "execution_count": 11,
   "metadata": {},
   "outputs": [],
   "source": [
    "df_join = spark.read.parquet(\"data/report/revenue/total\")"
   ]
  },
  {
   "cell_type": "code",
   "execution_count": 12,
   "metadata": {},
   "outputs": [
    {
     "name": "stderr",
     "output_type": "stream",
     "text": [
      "                                                                                \r"
     ]
    },
    {
     "name": "stdout",
     "output_type": "stream",
     "text": [
      "+-------------------+----+------------------+--------------------+------------------+---------------------+\n",
      "|               hour|zone|      green_amount|green_number_records|     yellow_amount|yellow_number_records|\n",
      "+-------------------+----+------------------+--------------------+------------------+---------------------+\n",
      "|2020-01-01 00:00:00|  10|              NULL|                NULL|42.410000801086426|                    2|\n",
      "|2020-01-01 00:00:00|  14|              NULL|                NULL| 8.800000190734863|                    1|\n",
      "|2020-01-01 00:00:00|  15|              NULL|                NULL| 34.09000015258789|                    1|\n",
      "|2020-01-01 00:00:00|  17| 195.0299997329712|                   9|220.21000003814697|                    8|\n",
      "|2020-01-01 00:00:00|  24| 87.60000038146973|                   3| 754.9499969482422|                   45|\n",
      "|2020-01-01 00:00:00|  29| 61.29999923706055|                   1|              NULL|                 NULL|\n",
      "|2020-01-01 00:00:00|  33|317.26999831199646|                  11| 255.5599992275238|                    8|\n",
      "|2020-01-01 00:00:00|  35| 129.9600019454956|                   5|              NULL|                 NULL|\n",
      "|2020-01-01 00:00:00|  36| 295.3400011062622|                  11|109.17000007629395|                    3|\n",
      "|2020-01-01 00:00:00|  41|1363.9599936008453|                  84|1256.5299990177155|                   80|\n",
      "|2020-01-01 00:00:00|  47|13.300000190734863|                   1| 8.300000190734863|                    1|\n",
      "|2020-01-01 00:00:00|  48|              NULL|                NULL| 10773.35988998413|                  455|\n",
      "|2020-01-01 00:00:00|  49|266.76000022888184|                  14|185.64999866485596|                   10|\n",
      "|2020-01-01 00:00:00|  55|129.28999996185303|                   4|              NULL|                 NULL|\n",
      "|2020-01-01 00:00:00|  65|199.48999881744385|                  10| 409.3499927520752|                   19|\n",
      "|2020-01-01 00:00:00|  68|              NULL|                NULL| 7825.069931030273|                  396|\n",
      "|2020-01-01 00:00:00|  71|23.799999237060547|                   1|              NULL|                 NULL|\n",
      "|2020-01-01 00:00:00|  74| 317.0899991989136|                  24| 586.2100043296814|                   47|\n",
      "|2020-01-01 00:00:00|  76|143.77999877929688|                   4|35.510000228881836|                    2|\n",
      "|2020-01-01 00:00:00|  82|305.12000250816345|                  28|29.799999237060547|                    1|\n",
      "+-------------------+----+------------------+--------------------+------------------+---------------------+\n",
      "only showing top 20 rows\n",
      "\n"
     ]
    }
   ],
   "source": [
    "df_join.show()"
   ]
  },
  {
   "cell_type": "code",
   "execution_count": 13,
   "metadata": {},
   "outputs": [],
   "source": [
    "df_zones = spark.read.parquet(\"data/pq/zones\")"
   ]
  },
  {
   "cell_type": "code",
   "execution_count": 14,
   "metadata": {},
   "outputs": [],
   "source": [
    "df_result = df_join.join(df_zones, df_join.zone == df_zones.LocationID)"
   ]
  },
  {
   "cell_type": "code",
   "execution_count": 29,
   "metadata": {},
   "outputs": [
    {
     "name": "stdout",
     "output_type": "stream",
     "text": [
      "+-------------------+------------+--------------------+------------------+---------------------+--------+------------+\n",
      "|               hour|green_amount|green_number_records|     yellow_amount|yellow_number_records| Borough|service_zone|\n",
      "+-------------------+------------+--------------------+------------------+---------------------+--------+------------+\n",
      "|2020-01-01 00:00:00|        NULL|                NULL|42.410000801086426|                    2|  Queens|   Boro Zone|\n",
      "|2020-01-01 00:00:00|        NULL|                NULL| 8.800000190734863|                    1|Brooklyn|   Boro Zone|\n",
      "+-------------------+------------+--------------------+------------------+---------------------+--------+------------+\n",
      "only showing top 2 rows\n",
      "\n"
     ]
    }
   ],
   "source": [
    "df_result.drop(\"LocationId\", \"zone\").show(2)"
   ]
  },
  {
   "cell_type": "code",
   "execution_count": 30,
   "metadata": {},
   "outputs": [
    {
     "name": "stderr",
     "output_type": "stream",
     "text": [
      "                                                                                \r"
     ]
    }
   ],
   "source": [
    "df_result.drop(\"LocationId\", \"zone\").write.parquet(\"tmp/revenue-zones\")"
   ]
  },
  {
   "cell_type": "markdown",
   "metadata": {},
   "source": [
    "### Using SQL Query"
   ]
  },
  {
   "cell_type": "code",
   "execution_count": 4,
   "metadata": {},
   "outputs": [],
   "source": [
    "df_green.createOrReplaceTempView(\"green\")\n",
    "df_yellow.createOrReplaceTempView(\"yellow\")"
   ]
  },
  {
   "cell_type": "code",
   "execution_count": 5,
   "metadata": {},
   "outputs": [],
   "source": [
    "df_green_revenue = spark.sql(\n",
    "    \"\"\"\n",
    "SELECT\n",
    "    date_trunc(\"hour\", lpep_pickup_datetime) AS hour,\n",
    "    PULocationID AS zone,\n",
    "\n",
    "    SUM(total_amount) AS amount,\n",
    "    COUNT(1) AS number_records\n",
    "FROM\n",
    "    green\n",
    "WHERE\n",
    "    lpep_pickup_datetime >= \"2020-01-01 00:00:00\"\n",
    "GROUP BY\n",
    "    1, 2\n",
    "ORDER BY\n",
    "    1, 2\n",
    "\"\"\"\n",
    ")"
   ]
  },
  {
   "cell_type": "code",
   "execution_count": 6,
   "metadata": {},
   "outputs": [
    {
     "name": "stderr",
     "output_type": "stream",
     "text": [
      "                                                                                \r"
     ]
    },
    {
     "name": "stdout",
     "output_type": "stream",
     "text": [
      "+-------------------+----+------------------+--------------+\n",
      "|               hour|zone|            amount|number_records|\n",
      "+-------------------+----+------------------+--------------+\n",
      "|2020-01-01 00:00:00|   7| 769.7299957275391|            45|\n",
      "|2020-01-01 00:00:00|  17| 195.0299997329712|             9|\n",
      "|2020-01-01 00:00:00|  18| 7.800000190734863|             1|\n",
      "|2020-01-01 00:00:00|  22|15.800000190734863|             1|\n",
      "|2020-01-01 00:00:00|  24| 87.60000038146973|             3|\n",
      "|2020-01-01 00:00:00|  25| 531.0000057220459|            26|\n",
      "|2020-01-01 00:00:00|  29| 61.29999923706055|             1|\n",
      "|2020-01-01 00:00:00|  32| 68.94999885559082|             2|\n",
      "|2020-01-01 00:00:00|  33|317.26999831199646|            11|\n",
      "|2020-01-01 00:00:00|  35| 129.9600019454956|             5|\n",
      "|2020-01-01 00:00:00|  36| 295.3400011062622|            11|\n",
      "|2020-01-01 00:00:00|  37|  175.669997215271|             6|\n",
      "|2020-01-01 00:00:00|  38| 98.79000091552734|             2|\n",
      "|2020-01-01 00:00:00|  40|168.97999572753906|             8|\n",
      "|2020-01-01 00:00:00|  41|1363.9599936008453|            84|\n",
      "|2020-01-01 00:00:00|  42| 799.7600021362305|            52|\n",
      "|2020-01-01 00:00:00|  43|107.52000141143799|             6|\n",
      "|2020-01-01 00:00:00|  47|13.300000190734863|             1|\n",
      "|2020-01-01 00:00:00|  49|266.76000022888184|            14|\n",
      "|2020-01-01 00:00:00|  51|17.800000190734863|             2|\n",
      "+-------------------+----+------------------+--------------+\n",
      "only showing top 20 rows\n",
      "\n"
     ]
    }
   ],
   "source": [
    "df_green_revenue.show()"
   ]
  },
  {
   "cell_type": "markdown",
   "metadata": {},
   "source": [
    "### Using Pyspark API"
   ]
  },
  {
   "cell_type": "code",
   "execution_count": 7,
   "metadata": {},
   "outputs": [],
   "source": [
    "df_green_revenue = (\n",
    "    (df_green)\n",
    "    .filter(\n",
    "        F.col(\"lpep_pickup_datetime\") >= datetime(2020, 1, 1),\n",
    "    )\n",
    "    .groupBy(\n",
    "        [\n",
    "            F.date_trunc(\"hour\", \"lpep_pickup_datetime\").alias(\"hour\"),\n",
    "            F.col(\"PULocationID\").alias(\"zone\"),\n",
    "        ]\n",
    "    )\n",
    "    .agg(\n",
    "        F.sum(\"total_amount\").alias(\"amount\"),\n",
    "        F.count(F.expr(\"*\")).alias(\"number_records\"),\n",
    "    )\n",
    "    .orderBy(\n",
    "        \"hour\",\n",
    "        \"zone\",\n",
    "    )\n",
    ")"
   ]
  },
  {
   "cell_type": "code",
   "execution_count": 8,
   "metadata": {},
   "outputs": [
    {
     "name": "stderr",
     "output_type": "stream",
     "text": [
      "[Stage 5:============================================>              (3 + 1) / 4]\r"
     ]
    },
    {
     "name": "stdout",
     "output_type": "stream",
     "text": [
      "+-------------------+----+------------------+--------------+\n",
      "|               hour|zone|            amount|number_records|\n",
      "+-------------------+----+------------------+--------------+\n",
      "|2020-01-01 00:00:00|   7| 769.7299957275391|            45|\n",
      "|2020-01-01 00:00:00|  17| 195.0299997329712|             9|\n",
      "|2020-01-01 00:00:00|  18| 7.800000190734863|             1|\n",
      "|2020-01-01 00:00:00|  22|15.800000190734863|             1|\n",
      "|2020-01-01 00:00:00|  24| 87.60000038146973|             3|\n",
      "|2020-01-01 00:00:00|  25| 531.0000057220459|            26|\n",
      "|2020-01-01 00:00:00|  29| 61.29999923706055|             1|\n",
      "|2020-01-01 00:00:00|  32| 68.94999885559082|             2|\n",
      "|2020-01-01 00:00:00|  33|317.26999831199646|            11|\n",
      "|2020-01-01 00:00:00|  35| 129.9600019454956|             5|\n",
      "|2020-01-01 00:00:00|  36| 295.3400011062622|            11|\n",
      "|2020-01-01 00:00:00|  37|  175.669997215271|             6|\n",
      "|2020-01-01 00:00:00|  38| 98.79000091552734|             2|\n",
      "|2020-01-01 00:00:00|  40|168.97999572753906|             8|\n",
      "|2020-01-01 00:00:00|  41|1363.9599936008453|            84|\n",
      "|2020-01-01 00:00:00|  42| 799.7600021362305|            52|\n",
      "|2020-01-01 00:00:00|  43|107.52000141143799|             6|\n",
      "|2020-01-01 00:00:00|  47|13.300000190734863|             1|\n",
      "|2020-01-01 00:00:00|  49|266.76000022888184|            14|\n",
      "|2020-01-01 00:00:00|  51|17.800000190734863|             2|\n",
      "+-------------------+----+------------------+--------------+\n",
      "only showing top 20 rows\n",
      "\n"
     ]
    },
    {
     "name": "stderr",
     "output_type": "stream",
     "text": [
      "                                                                                \r"
     ]
    }
   ],
   "source": [
    "df_green_revenue.show()"
   ]
  },
  {
   "cell_type": "code",
   "execution_count": 9,
   "metadata": {},
   "outputs": [
    {
     "name": "stderr",
     "output_type": "stream",
     "text": [
      "                                                                                \r"
     ]
    }
   ],
   "source": [
    "df_green_revenue.repartition(20).write.parquet(\n",
    "    \"data/report/revenue/green\", mode=\"overwrite\"\n",
    ")"
   ]
  }
 ],
 "metadata": {
  "kernelspec": {
   "display_name": "Python 3",
   "language": "python",
   "name": "python3"
  },
  "language_info": {
   "codemirror_mode": {
    "name": "ipython",
    "version": 3
   },
   "file_extension": ".py",
   "mimetype": "text/x-python",
   "name": "python",
   "nbconvert_exporter": "python",
   "pygments_lexer": "ipython3",
   "version": "3.11.8"
  }
 },
 "nbformat": 4,
 "nbformat_minor": 2
}
