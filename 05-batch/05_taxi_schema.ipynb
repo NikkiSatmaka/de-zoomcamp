{
 "cells": [
  {
   "cell_type": "code",
   "execution_count": 1,
   "metadata": {},
   "outputs": [
    {
     "name": "stderr",
     "output_type": "stream",
     "text": [
      "Setting default log level to \"WARN\".\n",
      "To adjust logging level use sc.setLogLevel(newLevel). For SparkR, use setLogLevel(newLevel).\n",
      "24/03/07 11:41:52 WARN NativeCodeLoader: Unable to load native-hadoop library for your platform... using builtin-java classes where applicable\n"
     ]
    }
   ],
   "source": [
    "import pyspark\n",
    "from pyspark.sql import SparkSession\n",
    "\n",
    "spark = SparkSession.builder.master(\"local[*]\").appName(\"test\").getOrCreate()"
   ]
  },
  {
   "cell_type": "code",
   "execution_count": 9,
   "metadata": {},
   "outputs": [],
   "source": [
    "from pathlib import Path\n",
    "\n",
    "import pandas as pd"
   ]
  },
  {
   "cell_type": "code",
   "execution_count": 3,
   "metadata": {},
   "outputs": [],
   "source": [
    "from pyspark.sql import types"
   ]
  },
  {
   "cell_type": "code",
   "execution_count": 19,
   "metadata": {},
   "outputs": [],
   "source": [
    "yellow_schema = types.StructType(\n",
    "    [\n",
    "        types.StructField(\"VendorID\", types.IntegerType(), True),\n",
    "        types.StructField(\"tpep_pickup_datetime\", types.TimestampType(), True),\n",
    "        types.StructField(\"tpep_dropoff_datetime\", types.TimestampType(), True),\n",
    "        types.StructField(\"passenger_count\", types.IntegerType(), True),\n",
    "        types.StructField(\"trip_distance\", types.FloatType(), True),\n",
    "        types.StructField(\"RatecodeID\", types.IntegerType(), True),\n",
    "        types.StructField(\"store_and_fwd_flag\", types.StringType(), True),\n",
    "        types.StructField(\"PULocationID\", types.IntegerType(), True),\n",
    "        types.StructField(\"DOLocationID\", types.IntegerType(), True),\n",
    "        types.StructField(\"payment_type\", types.IntegerType(), True),\n",
    "        types.StructField(\"fare_amount\", types.FloatType(), True),\n",
    "        types.StructField(\"extra\", types.FloatType(), True),\n",
    "        types.StructField(\"mta_tax\", types.FloatType(), True),\n",
    "        types.StructField(\"tip_amount\", types.FloatType(), True),\n",
    "        types.StructField(\"tolls_amount\", types.FloatType(), True),\n",
    "        types.StructField(\"improvement_surcharge\", types.FloatType(), True),\n",
    "        types.StructField(\"total_amount\", types.FloatType(), True),\n",
    "        types.StructField(\"congestion_surcharge\", types.FloatType(), True),\n",
    "    ]\n",
    ")\n",
    "\n",
    "green_schema = types.StructType(\n",
    "    [\n",
    "        types.StructField(\"VendorID\", types.IntegerType(), True),\n",
    "        types.StructField(\"lpep_pickup_datetime\", types.TimestampType(), True),\n",
    "        types.StructField(\"lpep_dropoff_datetime\", types.TimestampType(), True),\n",
    "        types.StructField(\"store_and_fwd_flag\", types.StringType(), True),\n",
    "        types.StructField(\"RatecodeID\", types.IntegerType(), True),\n",
    "        types.StructField(\"PULocationID\", types.IntegerType(), True),\n",
    "        types.StructField(\"DOLocationID\", types.IntegerType(), True),\n",
    "        types.StructField(\"passenger_count\", types.IntegerType(), True),\n",
    "        types.StructField(\"trip_distance\", types.FloatType(), True),\n",
    "        types.StructField(\"fare_amount\", types.FloatType(), True),\n",
    "        types.StructField(\"extra\", types.FloatType(), True),\n",
    "        types.StructField(\"mta_tax\", types.FloatType(), True),\n",
    "        types.StructField(\"tip_amount\", types.FloatType(), True),\n",
    "        types.StructField(\"tolls_amount\", types.FloatType(), True),\n",
    "        types.StructField(\"ehail_fee\", types.FloatType(), True),\n",
    "        types.StructField(\"improvement_surcharge\", types.FloatType(), True),\n",
    "        types.StructField(\"total_amount\", types.FloatType(), True),\n",
    "        types.StructField(\"payment_type\", types.IntegerType(), True),\n",
    "        types.StructField(\"trip_type\", types.IntegerType(), True),\n",
    "        types.StructField(\"congestion_surcharge\", types.FloatType(), True),\n",
    "    ]\n",
    ")"
   ]
  },
  {
   "cell_type": "code",
   "execution_count": null,
   "metadata": {},
   "outputs": [],
   "source": [
    "df_yellow = pd.read_csv(\n",
    "    \"data/raw/yellow/2021/01/yellow_tripdata_2021-01.csv.gz\", nrows=1000\n",
    ")\n",
    "df_green = pd.read_csv(\n",
    "    \"data/raw/green/2021/01/green_tripdata_2021-01.csv.gz\", nrows=1000\n",
    ")"
   ]
  },
  {
   "cell_type": "code",
   "execution_count": 97,
   "metadata": {},
   "outputs": [
    {
     "name": "stderr",
     "output_type": "stream",
     "text": [
      "                                                                                \r"
     ]
    }
   ],
   "source": [
    "services = {\"yellow\": yellow_schema, \"green\": green_schema}\n",
    "for service, schema in services.items():\n",
    "    for input_path in Path(f\"data/raw/{service}\").rglob(\"*.csv.gz\"):\n",
    "        output_path = Path(\"data/pq\") / input_path.parent.relative_to(\"data/raw\")\n",
    "        output_path.parent.mkdir(parents=True, exist_ok=True)\n",
    "\n",
    "        df = (\n",
    "            spark.read.option(\"header\", \"true\")\n",
    "            .schema(schema)\n",
    "            .csv(str(input_path.parent))\n",
    "        )\n",
    "\n",
    "        df.repartition(4).write.parquet(str(output_path))"
   ]
  },
  {
   "cell_type": "code",
   "execution_count": null,
   "metadata": {},
   "outputs": [],
   "source": []
  }
 ],
 "metadata": {
  "kernelspec": {
   "display_name": "Python 3",
   "language": "python",
   "name": "python3"
  },
  "language_info": {
   "codemirror_mode": {
    "name": "ipython",
    "version": 3
   },
   "file_extension": ".py",
   "mimetype": "text/x-python",
   "name": "python",
   "nbconvert_exporter": "python",
   "pygments_lexer": "ipython3",
   "version": "3.11.8"
  }
 },
 "nbformat": 4,
 "nbformat_minor": 2
}
